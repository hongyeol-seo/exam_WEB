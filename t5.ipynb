{
 "cells": [
  {
   "cell_type": "code",
   "execution_count": 3,
   "metadata": {},
   "outputs": [
    {
     "data": {
      "text/plain": [
       "[13, 9, 8, 3, 7, 12, 4, 11, 10, 1, 2, 6, 5]"
      ]
     },
     "execution_count": 3,
     "metadata": {},
     "output_type": "execute_result"
    }
   ],
   "source": [
    "import random\n",
    "\n",
    "box = []\n",
    "\n",
    "card_number = [1, 2, 3, 4, 5, 6, 7, 8, 9, 10, 11, 12, 13]\n",
    "card_suit = [\"♠\", \"♥\", \"♣\", \"◆\"]\n",
    "\n",
    "for i in card_number:\n",
    "    for j in card_suit:\n",
    "        print(j)\n",
    "\n",
    "# print(box)\n",
    "        \n",
    "\n",
    "# random.shuffle(card_number)\n"
   ]
  },
  {
   "cell_type": "code",
   "execution_count": null,
   "metadata": {},
   "outputs": [],
   "source": []
  }
 ],
 "metadata": {
  "kernelspec": {
   "display_name": "MY_WEB",
   "language": "python",
   "name": "python3"
  },
  "language_info": {
   "codemirror_mode": {
    "name": "ipython",
    "version": 3
   },
   "file_extension": ".py",
   "mimetype": "text/x-python",
   "name": "python",
   "nbconvert_exporter": "python",
   "pygments_lexer": "ipython3",
   "version": "3.9.15"
  },
  "orig_nbformat": 4,
  "vscode": {
   "interpreter": {
    "hash": "14fb997c643c3c7430d51dac58422a8230c32fb04385042451748206f3c91b0c"
   }
  }
 },
 "nbformat": 4,
 "nbformat_minor": 2
}
